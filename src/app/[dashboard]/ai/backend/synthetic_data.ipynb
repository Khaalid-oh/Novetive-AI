{
 "cells": [
  {
   "cell_type": "code",
   "execution_count": 1,
   "metadata": {},
   "outputs": [],
   "source": [
    "import openai\n",
    "import os\n",
    "import json\n",
    "\n",
    "from dotenv import load_dotenv, find_dotenv\n",
    "_ = load_dotenv(find_dotenv()) # read local .env file\n",
    "\n",
    "openai.api_key  = os.getenv('OPENAI_API_KEY')"
   ]
  },
  {
   "cell_type": "code",
   "execution_count": 2,
   "metadata": {},
   "outputs": [],
   "source": [
    "def get_completion(prompt, model=\"gpt-3.5-turbo\"):\n",
    "    messages = [{\"role\": \"user\", \"content\": prompt}]\n",
    "    response = openai.ChatCompletion.create(\n",
    "        model=model,\n",
    "        messages=messages,\n",
    "        temperature=0, # this is the degree of randomness of the model's output\n",
    "    )\n",
    "    return response.choices[0].message[\"content\"]"
   ]
  },
  {
   "cell_type": "code",
   "execution_count": null,
   "metadata": {},
   "outputs": [],
   "source": [
    "prompt = f\"\"\"\n",
    "Generate social media posts for all social media platforms. \\\n",
    "The post will be used for finetuning an AI model. \\  \n",
    "Create it in a json format. \\\n",
    "The dataset should be a query of \"user\" and response from \"novetiv ai\". \\\n",
    "Use the necessary delimiters like [name], [companyName] and others. \\\n",
    "You are provided with the example below for guide: \n",
    "\n",
    "    \"user\": \"[companyName] is opening new branch in [Location], generate a [twitter] post for this\",\n",
    "    \"novetiv ai\": \"Excited to announce that [companyName] is opening a new branch in [Location]! Can't wait to serve our customers in this new area. #expansion #growth\"\n",
    "\n",
    "\n",
    "\"\"\"\n",
    "def to_save(response, json_file_path):    \n",
    "    i = 1000\n",
    "    for i in prompt:\n",
    "    response = get_completion(prompt)\n",
    "    print(response)\n",
    "    with open(response, mode='w', encoding='utf-8') as file:\n",
    "        json.dump(response, json_file_path, indent=4)\n",
    "response = response\n",
    "json_file_path = r\"C:\\naibot\\Prompt_data\\prompt_data.json\"\n",
    "to_save(response, json_file_path)\n",
    "        "
   ]
  }
 ],
 "metadata": {
  "kernelspec": {
   "display_name": "Python 3",
   "language": "python",
   "name": "python3"
  },
  "language_info": {
   "codemirror_mode": {
    "name": "ipython",
    "version": 3
   },
   "file_extension": ".py",
   "mimetype": "text/x-python",
   "name": "python",
   "nbconvert_exporter": "python",
   "pygments_lexer": "ipython3",
   "version": "3.10.0"
  }
 },
 "nbformat": 4,
 "nbformat_minor": 2
}
