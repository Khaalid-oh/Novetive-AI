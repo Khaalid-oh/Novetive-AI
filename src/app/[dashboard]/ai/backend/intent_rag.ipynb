{
 "cells": [
  {
   "cell_type": "code",
   "execution_count": 7,
   "metadata": {},
   "outputs": [],
   "source": [
    "# define \n",
    "import json\n",
    "import nltk\n",
    "import numpy as np\n",
    "import tuning_normalizer\n",
    "import tuning_embedder"
   ]
  },
  {
   "cell_type": "code",
   "execution_count": 8,
   "metadata": {},
   "outputs": [
    {
     "name": "stderr",
     "output_type": "stream",
     "text": [
      "[nltk_data] Downloading package wordnet to\n",
      "[nltk_data]     C:\\Users\\HP\\AppData\\Roaming\\nltk_data...\n"
     ]
    },
    {
     "data": {
      "text/plain": [
       "True"
      ]
     },
     "execution_count": 8,
     "metadata": {},
     "output_type": "execute_result"
    }
   ],
   "source": [
    "# download wordnet package for nltk\n",
    "nltk.download('wordnet')"
   ]
  },
  {
   "cell_type": "code",
   "execution_count": 9,
   "metadata": {},
   "outputs": [],
   "source": [
    "def generate_embeddings():\n",
    "    with open(r\"C:\\Users\\HP\\naibot\\RAG_data\\intent_data.json\") as file:\n",
    "        rag_data = json.load(file)\n",
    "    embedded_data = []\n",
    "    for intent in rag_data['intents']:\n",
    "        for pattern in intent['patterns']:\n",
    "            #clean the patterns\n",
    "            pattern = tuning_normalizer.preprocess_main(pattern)\n",
    "            #embedd the patterns\n",
    "            embedded_sentence = tuning_embedder.embed_sentence(pattern)\n",
    "            embedded_data.append(embedded_sentence.last_hidden_state.mean(dim=1).squeeze().numpy())\n",
    "        intent['patterns'] = np.array(embedded_data).tolist()\n",
    "    return rag_data\n",
    "def save_embeddings_to_json(embeded_data):\n",
    "    rag_embedded_dataset_path = r\"C:\\Users\\HP\\naibot\\RAG_data\\rag_embedded_dataset.json\"\n",
    "    json_object = json.dumps(embeded_data, indent=4)\n",
    "\n",
    "    with open(rag_embedded_dataset_path, \"w\") as outfile:\n",
    "        outfile.write(json_object)\n",
    "\n",
    "def main():\n",
    "    embeddings = generate_embeddings()\n",
    "    save_embeddings_to_json(embeddings)\n",
    "if __name__ == \"__main__\":\n",
    "    main()"
   ]
  }
 ],
 "metadata": {
  "kernelspec": {
   "display_name": "Python 3",
   "language": "python",
   "name": "python3"
  },
  "language_info": {
   "codemirror_mode": {
    "name": "ipython",
    "version": 3
   },
   "file_extension": ".py",
   "mimetype": "text/x-python",
   "name": "python",
   "nbconvert_exporter": "python",
   "pygments_lexer": "ipython3",
   "version": "3.10.0"
  }
 },
 "nbformat": 4,
 "nbformat_minor": 2
}
